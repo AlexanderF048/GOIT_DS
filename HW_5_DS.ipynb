{
  "nbformat": 4,
  "nbformat_minor": 0,
  "metadata": {
    "colab": {
      "provenance": [],
      "authorship_tag": "ABX9TyMylrLlAuBa6ZRpqmH2D6Zi",
      "include_colab_link": true
    },
    "kernelspec": {
      "name": "python3",
      "display_name": "Python 3"
    },
    "language_info": {
      "name": "python"
    }
  },
  "cells": [
    {
      "cell_type": "markdown",
      "metadata": {
        "id": "view-in-github",
        "colab_type": "text"
      },
      "source": [
        "<a href=\"https://colab.research.google.com/github/AlexanderF048/GOIT_DS/blob/main/HW_5_DS.ipynb\" target=\"_parent\"><img src=\"https://colab.research.google.com/assets/colab-badge.svg\" alt=\"Open In Colab\"/></a>"
      ]
    },
    {
      "cell_type": "code",
      "execution_count": 72,
      "metadata": {
        "colab": {
          "base_uri": "https://localhost:8080/"
        },
        "id": "9Gw6tNlg7qrg",
        "outputId": "d431f9d9-c9b8-41e5-9b20-b353108337f0"
      },
      "outputs": [
        {
          "output_type": "stream",
          "name": "stdout",
          "text": [
            "Drive already mounted at /content/gdrive; to attempt to forcibly remount, call drive.mount(\"/content/gdrive\", force_remount=True).\n"
          ]
        }
      ],
      "source": [
        "#---MAIN----------------------------\n",
        "import pandas as pd\n",
        "import numpy as np\n",
        "from matplotlib import pyplot as plt\n",
        "%matplotlib inline\n",
        "import seaborn as sns\n",
        "\n",
        "#---PATH----------------------------\n",
        "from os import listdir\n",
        "from os.path import isfile, join\n",
        "\n",
        "from google.colab import drive\n",
        "drive.mount('/content/gdrive')\n",
        "\n",
        "#---DATA-ANALISIS-------------------\n",
        "from sklearn.metrics import mean_absolute_error, mean_squared_error\n",
        "from sklearn import preprocessing\n",
        "\n",
        "from scipy.fftpack import fft, rfft\n",
        "from scipy.stats import iqr\n",
        "\n",
        "#---MODELING------------------------\n",
        "from sklearn import model_selection\n",
        "from sklearn import svm\n",
        "\n",
        "from sklearn.model_selection import cross_val_score\n",
        "from sklearn.ensemble import RandomForestClassifier\n",
        "\n"
      ]
    },
    {
      "cell_type": "code",
      "source": [
        "path_to_data = 'gdrive/My Drive/Data-science/accelerometer_data/data'\n",
        "activities_names = listdir(path_to_data)\n",
        "print(activities_names)\n",
        "\n",
        "for activity in activities_names:\n",
        "  print('__________________________________')\n",
        "  print(activity,':::', len(listdir(join(path_to_data, activity))))"
      ],
      "metadata": {
        "colab": {
          "base_uri": "https://localhost:8080/"
        },
        "id": "U0xdFnhi5HPh",
        "outputId": "155f60bf-66d5-40ec-bf83-a7f6392b99ba"
      },
      "execution_count": 2,
      "outputs": [
        {
          "output_type": "stream",
          "name": "stdout",
          "text": [
            "['idle', 'running', 'stairs', 'walking']\n",
            "__________________________________\n",
            "idle ::: 879\n",
            "__________________________________\n",
            "running ::: 3408\n",
            "__________________________________\n",
            "stairs ::: 165\n",
            "__________________________________\n",
            "walking ::: 1850\n"
          ]
        }
      ]
    },
    {
      "cell_type": "code",
      "source": [
        "frames_idle = listdir(join(path_to_data, 'idle'))\n",
        "print(frames_idle[1])\n",
        "frame = pd.read_csv(join(join(path_to_data, 'idle'), frames_idle[1]))\n",
        "frame\n",
        "frame.values.flatten()\n"
      ],
      "metadata": {
        "colab": {
          "base_uri": "https://localhost:8080/"
        },
        "id": "DCZXNh42b1Ru",
        "outputId": "22187df6-5704-496d-d69d-4bb38bd121ae"
      },
      "execution_count": 31,
      "outputs": [
        {
          "output_type": "stream",
          "name": "stdout",
          "text": [
            "idle-211.csv\n"
          ]
        },
        {
          "output_type": "execute_result",
          "data": {
            "text/plain": [
              "array([ 2.920930e-01, -9.098000e-02,  9.720459e+00,  2.920930e-01,\n",
              "       -4.788000e-03,  9.749189e+00,  2.489970e-01, -4.309600e-02,\n",
              "        9.763555e+00,  2.346320e-01, -6.224900e-02,  9.758766e+00,\n",
              "        2.346320e-01, -4.309600e-02,  9.777920e+00,  2.394200e-01,\n",
              "       -1.436500e-02,  9.768343e+00,  2.681510e-01, -1.436500e-02,\n",
              "        9.787497e+00,  2.681510e-01, -1.915400e-02,  9.739613e+00,\n",
              "        2.729390e-01, -4.788000e-03,  9.753978e+00,  2.250550e-01,\n",
              "       -1.436500e-02,  9.763555e+00,  2.346320e-01, -1.436500e-02,\n",
              "        9.792285e+00,  2.250550e-01, -2.394200e-02,  9.753978e+00,\n",
              "        2.442090e-01,  4.788000e-03,  9.768343e+00,  2.825160e-01,\n",
              "       -2.394200e-02,  9.773131e+00,  2.681510e-01, -2.873000e-02,\n",
              "        9.768343e+00,  2.920930e-01, -4.788400e-02,  9.782708e+00,\n",
              "        2.585740e-01, -4.788400e-02,  9.782708e+00,  2.202670e-01,\n",
              "       -5.746100e-02,  9.773131e+00,  3.016690e-01, -3.351900e-02,\n",
              "        9.739613e+00,  2.777270e-01, -2.873000e-02,  9.768343e+00,\n",
              "        2.633620e-01, -9.577000e-03,  9.763555e+00,  2.489970e-01,\n",
              "       -4.788000e-03,  9.768343e+00,  2.777270e-01, -4.788400e-02,\n",
              "        9.753978e+00,  2.729390e-01, -1.915400e-02,  9.787497e+00,\n",
              "        2.681510e-01, -7.661400e-02,  9.787497e+00,  2.489970e-01,\n",
              "       -3.830700e-02,  9.773131e+00,  2.346320e-01,  4.788000e-03,\n",
              "        9.739613e+00,  2.442090e-01, -4.309600e-02,  9.739613e+00,\n",
              "        1.819590e-01,  3.830700e-02,  9.749189e+00,  1.867480e-01,\n",
              "        1.915400e-02,  9.768343e+00])"
            ]
          },
          "metadata": {},
          "execution_count": 31
        }
      ]
    },
    {
      "cell_type": "code",
      "source": [
        "features = [\n",
        "    'min_val_x',\n",
        "    'min_val_y',\n",
        "    'min_val_z',\n",
        "\n",
        "    'max_val_x',\n",
        "    'max_val_y',\n",
        "    'max_val_z',\n",
        "\n",
        "    'mean_val_x',\n",
        "    'mean_val_y',\n",
        "    'mean_val_z',\n",
        "\n",
        "    #'power',\n",
        "    #'energy',\n",
        "    #'entropy',\n",
        "\n",
        "    'skewness_x',\n",
        "    'skewness_y',\n",
        "    'skewness_z',\n",
        "\n",
        "    'kurtosis_x',\n",
        "    'kurtosis_y',\n",
        "    'kurtosis_z',\n",
        "\n",
        "    'variance_x',\n",
        "    'variance_y',\n",
        "    'variance_z',\n",
        "\n",
        "    'median_x',\n",
        "    'median_y',\n",
        "    'median_z',\n",
        "\n",
        "    'std_x',\n",
        "    'std_y',\n",
        "    'std_z',\n",
        "\n",
        "    'mae_mean_absolute_deviation_x',\n",
        "    'mae_mean_absolute_deviation_y',\n",
        "    'mae_mean_absolute_deviation_z',\n",
        "\n",
        "    'rmse_root_mean_sq_error_x',\n",
        "    'rmse_root_mean_sq_error_y',\n",
        "    'rmse_root_mean_sq_error_z',\n",
        "\n",
        "    'cross_correlation_x_y',\n",
        "    'cross_correlation_x_z',\n",
        "    'cross_correlation_y_z',\n",
        "\n",
        "    #'signal_magnitude_area_x',\n",
        "    #'signal_magnitude_area_y',\n",
        "    #'signal_magnitude_area_z',\n",
        "\n",
        "    #'iqr_interquartile_range_x',\n",
        "    #'iqr_interquartile_range_y',\n",
        "    #'iqr_interquartile_range_z'\n",
        "\n",
        "]"
      ],
      "metadata": {
        "id": "I9WfBklIAblB"
      },
      "execution_count": 9,
      "outputs": []
    },
    {
      "cell_type": "code",
      "source": [
        "def get_features(frame):\n",
        "    features = []\n",
        "    features = np.array(features)\n",
        "\n",
        "    features = np.concatenate((features, frame.min(axis=0).values), axis=0)\n",
        "    features = np.concatenate((features, frame.max(axis=0).values), axis=0)\n",
        "    features = np.concatenate((features, frame.mean(axis=0).values), axis=0)\n",
        "    features = np.concatenate((features, frame.skew(axis=0).values), axis=0)\n",
        "    features = np.concatenate((features, frame.kurt(axis=0).values), axis=0)\n",
        "    features = np.concatenate((features, frame.var(axis=0).values), axis=0)\n",
        "    features = np.concatenate((features, frame.median(axis=0).values), axis=0)\n",
        "    features = np.concatenate((features, frame.std(axis=0).values), axis=0)\n",
        "\n",
        "    frame['mean_x'] = frame.mean(axis=0)['accelerometer_X']\n",
        "    frame['mean_y'] = frame.mean(axis=0)['accelerometer_Y']\n",
        "    frame['mean_z'] = frame.mean(axis=0)['accelerometer_Z']\n",
        "\n",
        "    mae_x = mean_absolute_error(frame['accelerometer_X'], frame['mean_x'])\n",
        "    mae_y = mean_absolute_error(frame['accelerometer_Y'], frame['mean_y'])\n",
        "    mae_z = mean_absolute_error(frame['accelerometer_Z'], frame['mean_z'])\n",
        "\n",
        "    rmse_x = np.sqrt(mean_squared_error(frame['accelerometer_X'], frame['mean_x']))\n",
        "    rmse_y = np.sqrt(mean_squared_error(frame['accelerometer_Y'], frame['mean_y']))\n",
        "    rmse_z = np.sqrt(mean_squared_error(frame['accelerometer_Z'], frame['mean_z']))\n",
        "\n",
        "    metrics = np.array([mae_x, mae_y, mae_z, rmse_x, rmse_y, rmse_z])\n",
        "\n",
        "    features = np.concatenate((features, metrics), axis=0)\n",
        "\n",
        "    correlations = frame.corr()\n",
        "    corr = np.array([correlations['accelerometer_X']['accelerometer_Y'],\n",
        "                     correlations['accelerometer_X']['accelerometer_Z'],\n",
        "                     correlations['accelerometer_Y']['accelerometer_Z']])\n",
        "    \n",
        "    features = np.concatenate((features, metrics), axis=0)\n",
        "\n",
        "    signal_magnitude_area = pd.Series(frame['accelerometer_X']).apply(lambda x: np.sum(abs(x)/100)) \n",
        "    + pd.Series(frame['accelerometer_Y']).apply(lambda x: np.sum(abs(x)/100)) \\\n",
        "    + pd.Series(frame['accelerometer_Z']).apply(lambda x: np.sum(abs(x)/100))\n",
        "\n",
        "    features = np.concatenate((features, signal_magnitude_area), axis=0)\n",
        "\n",
        "    return features "
      ],
      "metadata": {
        "id": "kyoUxANCXVwP"
      },
      "execution_count": 27,
      "outputs": []
    },
    {
      "cell_type": "code",
      "source": [
        "#test\n",
        "sma_test = pd.Series(frame['accelerometer_X']).apply(lambda x: np.sum(abs(x)/100)) + pd.Series(frame['accelerometer_Y']).apply(lambda x: np.sum(abs(x)/100)) \\\n",
        "                  + pd.Series(frame['accelerometer_Z']).apply(lambda x: np.sum(abs(x)/100))\n",
        "np.array(sma_test)"
      ],
      "metadata": {
        "colab": {
          "base_uri": "https://localhost:8080/"
        },
        "id": "cwY4AL5zmKIO",
        "outputId": "c3a98a95-826d-44b3-e8da-8b9ebc1a37b7"
      },
      "execution_count": 22,
      "outputs": [
        {
          "output_type": "execute_result",
          "data": {
            "text/plain": [
              "array([0.10103532, 0.1004607 , 0.10055648, 0.10055647, 0.10055648,\n",
              "       0.10022128, 0.10070013, 0.10026918, 0.10031705, 0.10002975,\n",
              "       0.10041282, 0.10002975, 0.1001734 , 0.10079589, 0.10065224,\n",
              "       0.10122685, 0.10089166, 0.10050859, 0.10074801, 0.100748  ,\n",
              "       0.10036494, 0.10022128, 0.10079589, 0.1007959 , 0.10132262,\n",
              "       0.10060435, 0.09979033, 0.10026918, 0.09969455, 0.09974245])"
            ]
          },
          "metadata": {},
          "execution_count": 22
        }
      ]
    },
    {
      "cell_type": "code",
      "source": [
        "get_features(frame)"
      ],
      "metadata": {
        "colab": {
          "base_uri": "https://localhost:8080/"
        },
        "id": "loudxx03dMdN",
        "outputId": "0ffd24c3-7329-4e80-d842-47db51038c52"
      },
      "execution_count": 28,
      "outputs": [
        {
          "output_type": "execute_result",
          "data": {
            "text/plain": [
              "array([ 1.81959000e-01, -9.09800000e-02,  9.72045900e+00,  2.53625900e-01,\n",
              "       -2.63362000e-02,  9.76387390e+00,  3.01669000e-01,  3.83070000e-02,\n",
              "        9.79228500e+00,  2.53625900e-01, -2.63362000e-02,  9.76387390e+00,\n",
              "        2.53625900e-01, -2.63362000e-02,  9.76387390e+00,  2.53625900e-01,\n",
              "       -2.63362000e-02,  9.76387390e+00, -6.27109708e-01, -9.40647626e-02,\n",
              "       -4.70393683e-01,  0.00000000e+00,  0.00000000e+00,  0.00000000e+00,\n",
              "        3.64158668e-01,  4.96314441e-01, -9.76816725e-02,  0.00000000e+00,\n",
              "        0.00000000e+00,  0.00000000e+00,  8.51502120e-04,  7.57046866e-04,\n",
              "        3.01920517e-04,  3.18774611e-33,  1.12069199e-34,  3.26425202e-30,\n",
              "        2.53785500e-01, -2.39420000e-02,  9.76834300e+00,  2.53625900e-01,\n",
              "       -2.63362000e-02,  9.76387390e+00,  2.91805092e-02,  2.75144847e-02,\n",
              "        1.73758602e-02,  5.64601285e-17,  1.05862741e-17,  1.80672411e-15,\n",
              "        2.34631667e-02,  2.13882133e-02,  1.37053733e-02,  2.86900456e-02,\n",
              "        2.70520234e-02,  1.70838081e-02,  2.34631667e-02,  2.13882133e-02,\n",
              "        1.37053733e-02,  2.86900456e-02,  2.70520234e-02,  1.70838081e-02,\n",
              "        2.92093000e-03,  2.92093000e-03,  2.48997000e-03,  2.34632000e-03,\n",
              "        2.34632000e-03,  2.39420000e-03,  2.68151000e-03,  2.68151000e-03,\n",
              "        2.72939000e-03,  2.25055000e-03,  2.34632000e-03,  2.25055000e-03,\n",
              "        2.44209000e-03,  2.82516000e-03,  2.68151000e-03,  2.92093000e-03,\n",
              "        2.58574000e-03,  2.20267000e-03,  3.01669000e-03,  2.77727000e-03,\n",
              "        2.63362000e-03,  2.48997000e-03,  2.77727000e-03,  2.72939000e-03,\n",
              "        2.68151000e-03,  2.48997000e-03,  2.34632000e-03,  2.44209000e-03,\n",
              "        1.81959000e-03,  1.86748000e-03])"
            ]
          },
          "metadata": {},
          "execution_count": 28
        }
      ]
    },
    {
      "cell_type": "code",
      "source": [
        "def class_data_preparation(class_name, class_no):\n",
        "  path = join(path_to_data, class_name)\n",
        "\n",
        "  X = []\n",
        "\n",
        "  for item in listdir(path):\n",
        "    frame = pd.read_csv(join(path, item))\n",
        "    frame = frame.values\n",
        "    frame = frame.flatten()\n",
        "    X.append(frame)\n",
        "\n",
        "    y = [class_no]*len(X)\n",
        "\n",
        "    X = np.array(X)\n",
        "    y= np.array(y)\n",
        "\n",
        "    return X, y"
      ],
      "metadata": {
        "id": "2dOOUBuNukL3"
      },
      "execution_count": 32,
      "outputs": []
    },
    {
      "cell_type": "code",
      "source": [
        "def class_statistic_preparation(class_name, class_no):\n",
        "  path = join(path_to_data, class_name)\n",
        "\n",
        "  X = []\n",
        "\n",
        "  for item in listdir(path):\n",
        "    frame = pd.read_csv(join(path, item))\n",
        "    features = frame.values\n",
        "    features = get_features(frame)\n",
        "    X.append(features)\n",
        "\n",
        "    y = [class_no]*len(X)\n",
        "\n",
        "    X = np.array(X)\n",
        "    y= np.array(y)\n",
        "\n",
        "    return X, y"
      ],
      "metadata": {
        "id": "YNLFDIRT1cbk"
      },
      "execution_count": 34,
      "outputs": []
    },
    {
      "cell_type": "code",
      "source": [
        "def create_dataset(class_preparation):\n",
        "\n",
        "    X_idle, y_idle = class_preparation('idle', 0)\n",
        "    X_running, y_running = class_preparation('running', 1)\n",
        "    X_stairs, y_stairs = class_preparation('stairs', 2)\n",
        "    X_walking, y_walking = class_preparation('walking', 3)\n",
        "\n",
        "    X = np.concatenate((X_idle, X_running), axis=0)\n",
        "    X = np.concatenate((X, X_stairs), axis=0)\n",
        "    X = np.concatenate((X, X_walking), axis=0)\n",
        "\n",
        "    Y = np.concatenate((y_idle, y_running), axis=0)\n",
        "    Y = np.concatenate((Y, y_stairs), axis=0)\n",
        "    Y = np.concatenate((Y, y_walking), axis=0)\n",
        "\n",
        "    #['idle', 'running', 'stairs', 'walking']\n",
        "    return X,Y"
      ],
      "metadata": {
        "id": "nJv-98C21zRq"
      },
      "execution_count": 35,
      "outputs": []
    },
    {
      "cell_type": "code",
      "source": [
        "X, Y = create_dataset(class_data_preparation)\n",
        "#print(X)\n",
        "#print(Y)\n",
        "X_stat, Y_stat = create_dataset(class_statistic_preparation)\n",
        "#print(X_stat)\n",
        "#print(Y_stat)"
      ],
      "metadata": {
        "id": "CHFJCCEv89UX"
      },
      "execution_count": 50,
      "outputs": []
    },
    {
      "cell_type": "code",
      "source": [
        "X_train, X_test, y_train, y_test = model_selection.train_test_split(X_stat, Y_stat, test_size=0.3)"
      ],
      "metadata": {
        "id": "WMWJrrurAKkw"
      },
      "execution_count": 64,
      "outputs": []
    },
    {
      "cell_type": "code",
      "source": [
        "classifier = svm.SVC(decision_function_shape='ovo', kernel='rbf', gamma=0.005, probability=True)"
      ],
      "metadata": {
        "id": "YTaPf8BFCcJr"
      },
      "execution_count": 65,
      "outputs": []
    },
    {
      "cell_type": "code",
      "source": [
        "classifier.fit(X_train, y_train)"
      ],
      "metadata": {
        "colab": {
          "base_uri": "https://localhost:8080/",
          "height": 74
        },
        "id": "68DiJkuVC8OB",
        "outputId": "63d7c313-3ad8-4535-d7f0-a7171d3249d2"
      },
      "execution_count": 66,
      "outputs": [
        {
          "output_type": "execute_result",
          "data": {
            "text/plain": [
              "SVC(decision_function_shape='ovo', gamma=0.005, probability=True)"
            ],
            "text/html": [
              "<style>#sk-container-id-3 {color: black;background-color: white;}#sk-container-id-3 pre{padding: 0;}#sk-container-id-3 div.sk-toggleable {background-color: white;}#sk-container-id-3 label.sk-toggleable__label {cursor: pointer;display: block;width: 100%;margin-bottom: 0;padding: 0.3em;box-sizing: border-box;text-align: center;}#sk-container-id-3 label.sk-toggleable__label-arrow:before {content: \"▸\";float: left;margin-right: 0.25em;color: #696969;}#sk-container-id-3 label.sk-toggleable__label-arrow:hover:before {color: black;}#sk-container-id-3 div.sk-estimator:hover label.sk-toggleable__label-arrow:before {color: black;}#sk-container-id-3 div.sk-toggleable__content {max-height: 0;max-width: 0;overflow: hidden;text-align: left;background-color: #f0f8ff;}#sk-container-id-3 div.sk-toggleable__content pre {margin: 0.2em;color: black;border-radius: 0.25em;background-color: #f0f8ff;}#sk-container-id-3 input.sk-toggleable__control:checked~div.sk-toggleable__content {max-height: 200px;max-width: 100%;overflow: auto;}#sk-container-id-3 input.sk-toggleable__control:checked~label.sk-toggleable__label-arrow:before {content: \"▾\";}#sk-container-id-3 div.sk-estimator input.sk-toggleable__control:checked~label.sk-toggleable__label {background-color: #d4ebff;}#sk-container-id-3 div.sk-label input.sk-toggleable__control:checked~label.sk-toggleable__label {background-color: #d4ebff;}#sk-container-id-3 input.sk-hidden--visually {border: 0;clip: rect(1px 1px 1px 1px);clip: rect(1px, 1px, 1px, 1px);height: 1px;margin: -1px;overflow: hidden;padding: 0;position: absolute;width: 1px;}#sk-container-id-3 div.sk-estimator {font-family: monospace;background-color: #f0f8ff;border: 1px dotted black;border-radius: 0.25em;box-sizing: border-box;margin-bottom: 0.5em;}#sk-container-id-3 div.sk-estimator:hover {background-color: #d4ebff;}#sk-container-id-3 div.sk-parallel-item::after {content: \"\";width: 100%;border-bottom: 1px solid gray;flex-grow: 1;}#sk-container-id-3 div.sk-label:hover label.sk-toggleable__label {background-color: #d4ebff;}#sk-container-id-3 div.sk-serial::before {content: \"\";position: absolute;border-left: 1px solid gray;box-sizing: border-box;top: 0;bottom: 0;left: 50%;z-index: 0;}#sk-container-id-3 div.sk-serial {display: flex;flex-direction: column;align-items: center;background-color: white;padding-right: 0.2em;padding-left: 0.2em;position: relative;}#sk-container-id-3 div.sk-item {position: relative;z-index: 1;}#sk-container-id-3 div.sk-parallel {display: flex;align-items: stretch;justify-content: center;background-color: white;position: relative;}#sk-container-id-3 div.sk-item::before, #sk-container-id-3 div.sk-parallel-item::before {content: \"\";position: absolute;border-left: 1px solid gray;box-sizing: border-box;top: 0;bottom: 0;left: 50%;z-index: -1;}#sk-container-id-3 div.sk-parallel-item {display: flex;flex-direction: column;z-index: 1;position: relative;background-color: white;}#sk-container-id-3 div.sk-parallel-item:first-child::after {align-self: flex-end;width: 50%;}#sk-container-id-3 div.sk-parallel-item:last-child::after {align-self: flex-start;width: 50%;}#sk-container-id-3 div.sk-parallel-item:only-child::after {width: 0;}#sk-container-id-3 div.sk-dashed-wrapped {border: 1px dashed gray;margin: 0 0.4em 0.5em 0.4em;box-sizing: border-box;padding-bottom: 0.4em;background-color: white;}#sk-container-id-3 div.sk-label label {font-family: monospace;font-weight: bold;display: inline-block;line-height: 1.2em;}#sk-container-id-3 div.sk-label-container {text-align: center;}#sk-container-id-3 div.sk-container {/* jupyter's `normalize.less` sets `[hidden] { display: none; }` but bootstrap.min.css set `[hidden] { display: none !important; }` so we also need the `!important` here to be able to override the default hidden behavior on the sphinx rendered scikit-learn.org. See: https://github.com/scikit-learn/scikit-learn/issues/21755 */display: inline-block !important;position: relative;}#sk-container-id-3 div.sk-text-repr-fallback {display: none;}</style><div id=\"sk-container-id-3\" class=\"sk-top-container\"><div class=\"sk-text-repr-fallback\"><pre>SVC(decision_function_shape=&#x27;ovo&#x27;, gamma=0.005, probability=True)</pre><b>In a Jupyter environment, please rerun this cell to show the HTML representation or trust the notebook. <br />On GitHub, the HTML representation is unable to render, please try loading this page with nbviewer.org.</b></div><div class=\"sk-container\" hidden><div class=\"sk-item\"><div class=\"sk-estimator sk-toggleable\"><input class=\"sk-toggleable__control sk-hidden--visually\" id=\"sk-estimator-id-3\" type=\"checkbox\" checked><label for=\"sk-estimator-id-3\" class=\"sk-toggleable__label sk-toggleable__label-arrow\">SVC</label><div class=\"sk-toggleable__content\"><pre>SVC(decision_function_shape=&#x27;ovo&#x27;, gamma=0.005, probability=True)</pre></div></div></div></div></div>"
            ]
          },
          "metadata": {},
          "execution_count": 66
        }
      ]
    },
    {
      "cell_type": "code",
      "source": [
        "y_test"
      ],
      "metadata": {
        "colab": {
          "base_uri": "https://localhost:8080/"
        },
        "id": "XdIRuV1LDoSD",
        "outputId": "152e4349-d8fd-438f-df35-d3713b7436a1"
      },
      "execution_count": 67,
      "outputs": [
        {
          "output_type": "execute_result",
          "data": {
            "text/plain": [
              "array([2, 0])"
            ]
          },
          "metadata": {},
          "execution_count": 67
        }
      ]
    },
    {
      "cell_type": "code",
      "source": [
        "y_pred_svm = classifier.decision_function(X_test)\n",
        "y_pred_svm"
      ],
      "metadata": {
        "colab": {
          "base_uri": "https://localhost:8080/"
        },
        "id": "fY74g3rEDSM7",
        "outputId": "e1a23f7c-629c-4d85-91c2-de673de4b9ff"
      },
      "execution_count": 68,
      "outputs": [
        {
          "output_type": "execute_result",
          "data": {
            "text/plain": [
              "array([1.81705548e-08, 2.85720484e-25])"
            ]
          },
          "metadata": {},
          "execution_count": 68
        }
      ]
    },
    {
      "cell_type": "code",
      "source": [
        "rf_classifier = RandomForestClassifier(n_estimators=15, max_depth=None)"
      ],
      "metadata": {
        "id": "_5Ysuto5HnYI"
      },
      "execution_count": 73,
      "outputs": []
    },
    {
      "cell_type": "code",
      "source": [
        "rf_classifier = rf_classifier.fit(X_train, y_train)"
      ],
      "metadata": {
        "id": "1ELjwt82ITnM"
      },
      "execution_count": 74,
      "outputs": []
    },
    {
      "cell_type": "code",
      "source": [
        "y_pred_rf = rf_classifier.predict(X_test)\n",
        "y_pred_rf"
      ],
      "metadata": {
        "colab": {
          "base_uri": "https://localhost:8080/"
        },
        "id": "NCa80pWbI_Wv",
        "outputId": "57bfeb93-1408-48fc-a5bc-77e458d6675c"
      },
      "execution_count": 75,
      "outputs": [
        {
          "output_type": "execute_result",
          "data": {
            "text/plain": [
              "array([1, 1])"
            ]
          },
          "metadata": {},
          "execution_count": 75
        }
      ]
    }
  ]
}