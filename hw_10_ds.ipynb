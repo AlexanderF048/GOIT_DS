{
  "nbformat": 4,
  "nbformat_minor": 0,
  "metadata": {
    "colab": {
      "provenance": [],
      "private_outputs": true,
      "authorship_tag": "ABX9TyP3e6KThgNLu2xYvG7XeRCC",
      "include_colab_link": true
    },
    "kernelspec": {
      "name": "python3",
      "display_name": "Python 3"
    },
    "language_info": {
      "name": "python"
    }
  },
  "cells": [
    {
      "cell_type": "markdown",
      "metadata": {
        "id": "view-in-github",
        "colab_type": "text"
      },
      "source": [
        "<a href=\"https://colab.research.google.com/github/AlexanderF048/GOIT_DS/blob/main/hw_10_ds.ipynb\" target=\"_parent\"><img src=\"https://colab.research.google.com/assets/colab-badge.svg\" alt=\"Open In Colab\"/></a>"
      ]
    },
    {
      "cell_type": "code",
      "execution_count": null,
      "metadata": {
        "id": "9vDd_PTsX3Yh"
      },
      "outputs": [],
      "source": [
        "import matplotlib.pyplot as plt\n",
        "%matplotlib inline\n",
        "\n",
        "import numpy as np\n",
        "\n",
        "import tensorflow\n",
        "\n",
        "from tensorflow import keras\n",
        "from keras.datasets import fashion_mnist\n",
        "\n",
        "from keras.models import Sequential\n",
        "from keras.layers import Dense, Flatten, Conv2D, MaxPooling2D\n",
        "from keras import optimizers\n",
        "from keras import losses\n",
        "from keras import metrics\n",
        "\n",
        "import keras.backend\n",
        "\n",
        "from keras.applications.vgg16 import VGG16, preprocess_input\n",
        "from keras.utils import img_to_array, array_to_img, to_categorical"
      ]
    },
    {
      "cell_type": "code",
      "source": [
        "(x_train, y_train), (x_test, y_test) = fashion_mnist.load_data()\n",
        "x_train, x_test = x_train / 255.0, x_test / 255.0\n",
        "#x_train, x_test = np.array(x_train, np.float32), np.array(x_test, np.float32)"
      ],
      "metadata": {
        "id": "CInSoSPqYEWe"
      },
      "execution_count": null,
      "outputs": []
    },
    {
      "cell_type": "code",
      "source": [
        "class_names = ['T-shirt/top', 'Trouser', 'Pullover', 'Dress', 'Coat',\n",
        "               'Sandal', 'Shirt', 'Sneaker', 'Bag', 'Ankle boot']"
      ],
      "metadata": {
        "id": "BPAHa3XjYI-y"
      },
      "execution_count": null,
      "outputs": []
    },
    {
      "cell_type": "code",
      "source": [
        "plt.figure(figsize=(7.5,7.5))\n",
        "for i in range(25):\n",
        "    plt.subplot(5,5,i+1)\n",
        "    plt.xticks([])\n",
        "    plt.yticks([])\n",
        "    plt.grid(False)\n",
        "    plt.imshow(x_train[i], cmap=plt.cm.binary)\n",
        "    plt.xlabel(class_names[y_train[i]])\n",
        "plt.show()"
      ],
      "metadata": {
        "id": "40U369cVYYI9"
      },
      "execution_count": null,
      "outputs": []
    },
    {
      "cell_type": "code",
      "source": [
        "model = Sequential([\n",
        "    Conv2D(32, (3, 3),\n",
        "           activation=\"relu\",\n",
        "           input_shape=(28, 28, 1),\n",
        "           dilation_rate=(1, 1),\n",
        "           padding=\"same\",\n",
        "           ),\n",
        "    MaxPooling2D(pool_size=(2, 2)),\n",
        "\n",
        "    Conv2D(64, (3, 3),\n",
        "           activation=\"relu\",\n",
        "           dilation_rate=(1, 1),\n",
        "           padding=\"same\",\n",
        "           ),\n",
        "    MaxPooling2D((2, 2)),\n",
        "\n",
        "        Conv2D(64, (3, 3),\n",
        "           activation=\"relu\",\n",
        "           dilation_rate=(1, 1),\n",
        "           padding=\"same\",\n",
        "           ),\n",
        "    MaxPooling2D((2, 2)),\n",
        "\n",
        "    Flatten(),\n",
        "    Dense(128, activation=\"relu\"),\n",
        "\n",
        "    Dense(10, activation=\"softmax\")\n",
        "])\n",
        "\n",
        "model.summary()"
      ],
      "metadata": {
        "id": "1xagUbwGZA8m"
      },
      "execution_count": null,
      "outputs": []
    },
    {
      "cell_type": "code",
      "source": [
        "model.compile(\n",
        "    optimizer=optimizers.RMSprop(learning_rate=0.001),\n",
        "    loss= losses.SparseCategoricalCrossentropy(from_logits=True),\n",
        "    metrics=['accuracy']\n",
        ")"
      ],
      "metadata": {
        "id": "KlUDJDC1qdYR"
      },
      "execution_count": null,
      "outputs": []
    },
    {
      "cell_type": "code",
      "source": [
        "history = model.fit(\n",
        "    x_train,\n",
        "    y_train,\n",
        "    epochs=8,\n",
        "    batch_size=30,\n",
        "    validation_split=0.2, #20% на тестовые экземпляры\n",
        ")\n",
        "\n",
        "print('---------------------------------------------------------------------------------------------------------------------')\n",
        "print(history.history.keys())"
      ],
      "metadata": {
        "id": "BWv7K6dbq0cY"
      },
      "execution_count": null,
      "outputs": []
    },
    {
      "cell_type": "code",
      "source": [
        "history_dict = history.history\n",
        "loss_values = history_dict['loss']\n",
        "val_loss_values = history_dict['val_loss']\n",
        "\n",
        "epochs = range(1, len(history_dict['accuracy']) + 1)\n",
        "\n",
        "plt.plot(epochs, loss_values, 'bo', label='Training loss')\n",
        "plt.plot(epochs, val_loss_values, 'b', label='Validation loss')\n",
        "plt.title('Training and validation loss')\n",
        "plt.xlabel('Epochs')\n",
        "plt.ylabel('Loss')\n",
        "plt.legend()\n",
        "plt.show()\n",
        "\n",
        "plt.clf()\n",
        "val_acc_values = history_dict['val_accuracy']\n",
        "plt.plot(epochs, history_dict['accuracy'], 'bo', label='Training acc')\n",
        "plt.plot(epochs, history_dict['val_accuracy'], 'b', label='Validation acc')\n",
        "plt.title('Training and validation accuracy')\n",
        "plt.xlabel('Epochs')\n",
        "plt.ylabel('Accuracy')\n",
        "plt.legend()"
      ],
      "metadata": {
        "id": "bYT14NL1_K9z"
      },
      "execution_count": null,
      "outputs": []
    },
    {
      "cell_type": "code",
      "source": [
        "result = model.predict(x_test[:1])\n",
        "print(result)\n",
        "plt.imshow(x_test[:1].reshape(28, 28, 1))"
      ],
      "metadata": {
        "id": "8-vnefPlWvG0"
      },
      "execution_count": null,
      "outputs": []
    },
    {
      "cell_type": "markdown",
      "source": [
        "**VGG16**\n",
        "\n",
        "---\n",
        "\n"
      ],
      "metadata": {
        "id": "XRDamQ4zYFCf"
      }
    },
    {
      "cell_type": "code",
      "source": [
        "conv_base = VGG16(weights=\"imagenet\", include_top=False,\n",
        "                  input_shape=(48, 48, 3),\n",
        "                  classes=784,\n",
        "    classifier_activation=\"relu\")\n",
        "conv_base.trainable = False\n",
        "conv_base.summary()"
      ],
      "metadata": {
        "id": "ScM-kloXYIbK"
      },
      "execution_count": null,
      "outputs": []
    },
    {
      "cell_type": "code",
      "source": [
        "# Reshape images as per the tensor format required by tensorflow\n",
        "X_train = x_train\n",
        "print(X_train[1].shape)\n",
        "print(X_train.shape)\n",
        "print(\"------------------------------------------------------------------------\")\n",
        "\n",
        "X_train = X_train.reshape([-1, 784]) # Возвращаем в array\n",
        "print(X_train.shape)\n",
        "print(\"------------------------------------------------------------------------\")\n",
        "\n",
        "X_train = np.dstack([X_train] * 3) # 2D в 3D\n",
        "print(X_train.shape)\n",
        "print(\"------------------------------------------------------------------------\")\n",
        "\n",
        "X_train = X_train.reshape(-1, 28,28,3)\n",
        "print(X_train.shape)\n",
        "\n",
        "print(\"------------------------------------------------------------------------\")\n",
        "X_train = np.asarray([img_to_array(array_to_img(im, scale=False).resize((48,48))) for im in X_train])\n",
        "print(X_train[1].shape)\n",
        "print(X_train.shape)\n"
      ],
      "metadata": {
        "id": "Tx7cNoTWpYox"
      },
      "execution_count": null,
      "outputs": []
    },
    {
      "cell_type": "code",
      "source": [
        "X_train = preprocess_input(X_train)"
      ],
      "metadata": {
        "id": "VDOf5x5Nac1F"
      },
      "execution_count": null,
      "outputs": []
    },
    {
      "cell_type": "code",
      "source": [
        "#Y_train = to_categorical(y_train)"
      ],
      "metadata": {
        "id": "fBMtxiuz0SL2"
      },
      "execution_count": null,
      "outputs": []
    },
    {
      "cell_type": "code",
      "source": [
        "modelVGG16 = Sequential([\n",
        "    conv_base,\n",
        "\n",
        "    Flatten(),\n",
        "    Dense(128, activation=\"relu\"),\n",
        "\n",
        "    Dense(10, activation=\"softmax\")\n",
        "])\n",
        "\n",
        "modelVGG16.summary()"
      ],
      "metadata": {
        "id": "Mk8PhEFvbwf6"
      },
      "execution_count": null,
      "outputs": []
    },
    {
      "cell_type": "code",
      "source": [
        "modelVGG16.compile(\n",
        "    optimizer=optimizers.RMSprop(learning_rate=0.001),\n",
        "    loss= losses.SparseCategoricalCrossentropy(from_logits=True),\n",
        "    metrics=['accuracy']\n",
        ")"
      ],
      "metadata": {
        "id": "66pNHu3gd-cN"
      },
      "execution_count": null,
      "outputs": []
    },
    {
      "cell_type": "code",
      "source": [
        "conv_base.trainable = True\n",
        "set_trainable = False\n",
        "for layer in conv_base.layers:\n",
        "    if layer.name == \"block1_conv1\":\n",
        "        set_trainable = True\n",
        "    if set_trainable:\n",
        "        layer.trainable = True\n",
        "    else:\n",
        "        layer.trainable = False"
      ],
      "metadata": {
        "id": "kBVWNd3uylFC"
      },
      "execution_count": null,
      "outputs": []
    },
    {
      "cell_type": "code",
      "source": [
        "historyVGG16 = modelVGG16.fit(\n",
        "    X_train,\n",
        "    y_train,\n",
        "    epochs=50,\n",
        "    steps_per_epoch=100,\n",
        "    validation_steps=50,\n",
        "    batch_size=30,\n",
        "    validation_split=0.2, #20% на тестовые экземпляры\n",
        ")\n",
        "\n",
        "print('---------------------------------------------------------------------------------------------------------------------')\n",
        "print(historyVGG16.history.keys())"
      ],
      "metadata": {
        "id": "dOxs3RW2eBmt"
      },
      "execution_count": null,
      "outputs": []
    }
  ]
}